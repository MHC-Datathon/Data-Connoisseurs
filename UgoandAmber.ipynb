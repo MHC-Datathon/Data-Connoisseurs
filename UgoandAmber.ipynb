import requests
import pandas as pd
import numpy as np
import matplotlib.pyplot as plt

# ----------------------
# 1. Fetch data
# ----------------------
api_point = 'https://data.ny.gov/resource/kh8p-hcbm.json'
response = requests.get(api_point, params={"$limit": 50000})

if response.status_code != 200:
    raise RuntimeError(f"Failed to fetch data. Status code: {response.status_code}")

data = response.json()
df = pd.DataFrame(data)

# Keep only rows with lat/lon and status
df = df.dropna(subset=['violation_latitude', 'violation_longitude', 'violation_status']).copy()
df['violation_latitude'] = df['violation_latitude'].astype(float)
df['violation_longitude'] = df['violation_longitude'].astype(float)

# ----------------------
# 2. Haversine function
# ----------------------
def haversine(lat1, lon1, lat2, lon2):
    R = 6371  # Earth radius in km
    phi1, phi2 = np.radians(lat1), np.radians(lat2)
    dphi = np.radians(lat2 - lat1)
    dlambda = np.radians(lon2 - lon1)
    a = np.sin(dphi / 2) ** 2 + np.cos(phi1) * np.cos(phi2) * np.sin(dlambda / 2) ** 2
    c = 2 * np.arctan2(np.sqrt(a), np.sqrt(1 - a))
    return R * c

# Manhattan and Queens centers
manhattan_center = (40.7831, -73.9712)
queens_center = (40.7282, -73.7949)
radius_km = 15  # Approx radius for borough coverage

# Filter Manhattan violations
df['distance_to_manhattan'] = df.apply(
    lambda row: haversine(manhattan_center[0], manhattan_center[1], row['violation_latitude'], row['violation_longitude']),
    axis=1
)
df_manhattan = df[df['distance_to_manhattan'] <= radius_km]

# Filter Queens violations
df['distance_to_queens'] = df.apply(
    lambda row: haversine(queens_center[0], queens_center[1], row['violation_latitude'], row['violation_longitude']),
    axis=1
)
df_queens = df[df['distance_to_queens'] <= radius_km]

# ----------------------
# 3. Count violations by status
# ----------------------
manhattan_counts = df_manhattan['violation_status'].value_counts().reset_index()
manhattan_counts.columns = ['violation_status', 'Manhattan']

queens_counts = df_queens['violation_status'].value_counts().reset_index()
queens_counts.columns = ['violation_status', 'Queens']

# Merge on status
status_comparison = pd.merge(manhattan_counts, queens_counts, on='violation_status', how='outer').fillna(0)

# ----------------------
# 4. Plot side-by-side bar chart
# ----------------------
x = np.arange(len(status_comparison))  # label locations
width = 0.35  # bar width

fig, ax = plt.subplots(figsize=(12,6))
ax.bar(x - width/2, status_comparison['Manhattan'], width, label='Manhattan', color='skyblue')
ax.bar(x + width/2, status_comparison['Queens'], width, label='Queens', color='lightgreen')

ax.set_xticks(x)
ax.set_xticklabels(status_comparison['violation_status'], rotation=45, ha='right')
ax.set_ylabel('Number of Violations')
ax.set_title('Bus Lane Violations by Status: Manhattan vs. Queens')
ax.legend()
plt.tight_layout()
plt.show()
